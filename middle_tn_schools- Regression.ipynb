{
 "cells": [
  {
   "cell_type": "code",
   "execution_count": 1,
   "metadata": {},
   "outputs": [],
   "source": [
    "import pandas as pd\n",
    "import numpy as np\n",
    "import seaborn as sns\n",
    "import matplotlib.pyplot as plt"
   ]
  },
  {
   "cell_type": "code",
   "execution_count": 2,
   "metadata": {},
   "outputs": [],
   "source": [
    "from IPython.core.interactiveshell import InteractiveShell\n",
    "InteractiveShell.ast_node_interactivity='all'"
   ]
  },
  {
   "cell_type": "code",
   "execution_count": 3,
   "metadata": {},
   "outputs": [],
   "source": [
    "data= pd.read_csv(r'G:\\machine learning\\Hands-on-Assignment (2)\\Hands-on-Assignment\\LVC datasets\\Assisted Practice\\Lesson 2\\middle_tn_schools.csv')\n",
    "pd.options.display.max_columns=None"
   ]
  },
  {
   "cell_type": "code",
   "execution_count": 4,
   "metadata": {},
   "outputs": [
    {
     "data": {
      "text/html": [
       "<div>\n",
       "<style scoped>\n",
       "    .dataframe tbody tr th:only-of-type {\n",
       "        vertical-align: middle;\n",
       "    }\n",
       "\n",
       "    .dataframe tbody tr th {\n",
       "        vertical-align: top;\n",
       "    }\n",
       "\n",
       "    .dataframe thead th {\n",
       "        text-align: right;\n",
       "    }\n",
       "</style>\n",
       "<table border=\"1\" class=\"dataframe\">\n",
       "  <thead>\n",
       "    <tr style=\"text-align: right;\">\n",
       "      <th></th>\n",
       "      <th>name</th>\n",
       "      <th>school_rating</th>\n",
       "      <th>size</th>\n",
       "      <th>reduced_lunch</th>\n",
       "      <th>state_percentile_16</th>\n",
       "      <th>state_percentile_15</th>\n",
       "      <th>stu_teach_ratio</th>\n",
       "      <th>school_type</th>\n",
       "      <th>avg_score_15</th>\n",
       "      <th>avg_score_16</th>\n",
       "      <th>full_time_teachers</th>\n",
       "      <th>percent_black</th>\n",
       "      <th>percent_white</th>\n",
       "      <th>percent_asian</th>\n",
       "      <th>percent_hispanic</th>\n",
       "    </tr>\n",
       "  </thead>\n",
       "  <tbody>\n",
       "    <tr>\n",
       "      <th>0</th>\n",
       "      <td>Allendale Elementary School</td>\n",
       "      <td>5.0</td>\n",
       "      <td>851.0</td>\n",
       "      <td>10.0</td>\n",
       "      <td>90.2</td>\n",
       "      <td>95.8</td>\n",
       "      <td>15.7</td>\n",
       "      <td>Public</td>\n",
       "      <td>89.4</td>\n",
       "      <td>85.2</td>\n",
       "      <td>54.0</td>\n",
       "      <td>2.9</td>\n",
       "      <td>85.5</td>\n",
       "      <td>1.6</td>\n",
       "      <td>5.6</td>\n",
       "    </tr>\n",
       "    <tr>\n",
       "      <th>1</th>\n",
       "      <td>Anderson Elementary</td>\n",
       "      <td>2.0</td>\n",
       "      <td>412.0</td>\n",
       "      <td>71.0</td>\n",
       "      <td>32.8</td>\n",
       "      <td>37.3</td>\n",
       "      <td>12.8</td>\n",
       "      <td>Public</td>\n",
       "      <td>43.0</td>\n",
       "      <td>38.3</td>\n",
       "      <td>32.0</td>\n",
       "      <td>3.9</td>\n",
       "      <td>86.7</td>\n",
       "      <td>1.0</td>\n",
       "      <td>4.9</td>\n",
       "    </tr>\n",
       "    <tr>\n",
       "      <th>2</th>\n",
       "      <td>Avoca Elementary</td>\n",
       "      <td>4.0</td>\n",
       "      <td>482.0</td>\n",
       "      <td>43.0</td>\n",
       "      <td>78.4</td>\n",
       "      <td>83.6</td>\n",
       "      <td>16.6</td>\n",
       "      <td>Public</td>\n",
       "      <td>75.7</td>\n",
       "      <td>73.0</td>\n",
       "      <td>29.0</td>\n",
       "      <td>1.0</td>\n",
       "      <td>91.5</td>\n",
       "      <td>1.2</td>\n",
       "      <td>4.4</td>\n",
       "    </tr>\n",
       "    <tr>\n",
       "      <th>3</th>\n",
       "      <td>Bailey Middle</td>\n",
       "      <td>0.0</td>\n",
       "      <td>394.0</td>\n",
       "      <td>91.0</td>\n",
       "      <td>1.6</td>\n",
       "      <td>1.0</td>\n",
       "      <td>13.1</td>\n",
       "      <td>Public Magnet</td>\n",
       "      <td>2.1</td>\n",
       "      <td>4.4</td>\n",
       "      <td>30.0</td>\n",
       "      <td>80.7</td>\n",
       "      <td>11.7</td>\n",
       "      <td>2.3</td>\n",
       "      <td>4.3</td>\n",
       "    </tr>\n",
       "    <tr>\n",
       "      <th>4</th>\n",
       "      <td>Barfield Elementary</td>\n",
       "      <td>4.0</td>\n",
       "      <td>948.0</td>\n",
       "      <td>26.0</td>\n",
       "      <td>85.3</td>\n",
       "      <td>89.2</td>\n",
       "      <td>14.8</td>\n",
       "      <td>Public</td>\n",
       "      <td>81.3</td>\n",
       "      <td>79.6</td>\n",
       "      <td>64.0</td>\n",
       "      <td>11.8</td>\n",
       "      <td>71.2</td>\n",
       "      <td>7.1</td>\n",
       "      <td>6.0</td>\n",
       "    </tr>\n",
       "  </tbody>\n",
       "</table>\n",
       "</div>"
      ],
      "text/plain": [
       "                          name  school_rating   size  reduced_lunch  \\\n",
       "0  Allendale Elementary School            5.0  851.0           10.0   \n",
       "1          Anderson Elementary            2.0  412.0           71.0   \n",
       "2             Avoca Elementary            4.0  482.0           43.0   \n",
       "3                Bailey Middle            0.0  394.0           91.0   \n",
       "4          Barfield Elementary            4.0  948.0           26.0   \n",
       "\n",
       "   state_percentile_16  state_percentile_15  stu_teach_ratio    school_type  \\\n",
       "0                 90.2                 95.8             15.7         Public   \n",
       "1                 32.8                 37.3             12.8         Public   \n",
       "2                 78.4                 83.6             16.6         Public   \n",
       "3                  1.6                  1.0             13.1  Public Magnet   \n",
       "4                 85.3                 89.2             14.8         Public   \n",
       "\n",
       "   avg_score_15  avg_score_16  full_time_teachers  percent_black  \\\n",
       "0          89.4          85.2                54.0            2.9   \n",
       "1          43.0          38.3                32.0            3.9   \n",
       "2          75.7          73.0                29.0            1.0   \n",
       "3           2.1           4.4                30.0           80.7   \n",
       "4          81.3          79.6                64.0           11.8   \n",
       "\n",
       "   percent_white  percent_asian  percent_hispanic  \n",
       "0           85.5            1.6               5.6  \n",
       "1           86.7            1.0               4.9  \n",
       "2           91.5            1.2               4.4  \n",
       "3           11.7            2.3               4.3  \n",
       "4           71.2            7.1               6.0  "
      ]
     },
     "execution_count": 4,
     "metadata": {},
     "output_type": "execute_result"
    }
   ],
   "source": [
    "data.head()"
   ]
  },
  {
   "cell_type": "code",
   "execution_count": 5,
   "metadata": {},
   "outputs": [
    {
     "data": {
      "text/html": [
       "<div>\n",
       "<style scoped>\n",
       "    .dataframe tbody tr th:only-of-type {\n",
       "        vertical-align: middle;\n",
       "    }\n",
       "\n",
       "    .dataframe tbody tr th {\n",
       "        vertical-align: top;\n",
       "    }\n",
       "\n",
       "    .dataframe thead th {\n",
       "        text-align: right;\n",
       "    }\n",
       "</style>\n",
       "<table border=\"1\" class=\"dataframe\">\n",
       "  <thead>\n",
       "    <tr style=\"text-align: right;\">\n",
       "      <th></th>\n",
       "      <th>school_rating</th>\n",
       "      <th>size</th>\n",
       "      <th>reduced_lunch</th>\n",
       "      <th>state_percentile_16</th>\n",
       "      <th>state_percentile_15</th>\n",
       "      <th>stu_teach_ratio</th>\n",
       "      <th>avg_score_15</th>\n",
       "      <th>avg_score_16</th>\n",
       "      <th>full_time_teachers</th>\n",
       "      <th>percent_black</th>\n",
       "      <th>percent_white</th>\n",
       "      <th>percent_asian</th>\n",
       "      <th>percent_hispanic</th>\n",
       "    </tr>\n",
       "  </thead>\n",
       "  <tbody>\n",
       "    <tr>\n",
       "      <th>count</th>\n",
       "      <td>347.000000</td>\n",
       "      <td>347.000000</td>\n",
       "      <td>347.000000</td>\n",
       "      <td>347.000000</td>\n",
       "      <td>341.000000</td>\n",
       "      <td>347.000000</td>\n",
       "      <td>341.000000</td>\n",
       "      <td>347.000000</td>\n",
       "      <td>347.000000</td>\n",
       "      <td>347.000000</td>\n",
       "      <td>347.000000</td>\n",
       "      <td>347.000000</td>\n",
       "      <td>347.000000</td>\n",
       "    </tr>\n",
       "    <tr>\n",
       "      <th>mean</th>\n",
       "      <td>2.968300</td>\n",
       "      <td>699.472622</td>\n",
       "      <td>50.279539</td>\n",
       "      <td>58.801729</td>\n",
       "      <td>58.249267</td>\n",
       "      <td>15.461671</td>\n",
       "      <td>57.004692</td>\n",
       "      <td>57.049856</td>\n",
       "      <td>44.939481</td>\n",
       "      <td>21.197983</td>\n",
       "      <td>61.673487</td>\n",
       "      <td>2.642651</td>\n",
       "      <td>11.164553</td>\n",
       "    </tr>\n",
       "    <tr>\n",
       "      <th>std</th>\n",
       "      <td>1.690377</td>\n",
       "      <td>400.598636</td>\n",
       "      <td>25.480236</td>\n",
       "      <td>32.540747</td>\n",
       "      <td>32.702630</td>\n",
       "      <td>5.725170</td>\n",
       "      <td>26.696450</td>\n",
       "      <td>27.968974</td>\n",
       "      <td>22.053386</td>\n",
       "      <td>23.562538</td>\n",
       "      <td>27.274859</td>\n",
       "      <td>3.109629</td>\n",
       "      <td>12.030608</td>\n",
       "    </tr>\n",
       "    <tr>\n",
       "      <th>min</th>\n",
       "      <td>0.000000</td>\n",
       "      <td>53.000000</td>\n",
       "      <td>2.000000</td>\n",
       "      <td>0.200000</td>\n",
       "      <td>0.600000</td>\n",
       "      <td>4.700000</td>\n",
       "      <td>1.500000</td>\n",
       "      <td>0.100000</td>\n",
       "      <td>2.000000</td>\n",
       "      <td>0.000000</td>\n",
       "      <td>1.100000</td>\n",
       "      <td>0.000000</td>\n",
       "      <td>0.000000</td>\n",
       "    </tr>\n",
       "    <tr>\n",
       "      <th>25%</th>\n",
       "      <td>2.000000</td>\n",
       "      <td>420.500000</td>\n",
       "      <td>30.000000</td>\n",
       "      <td>30.950000</td>\n",
       "      <td>27.100000</td>\n",
       "      <td>13.700000</td>\n",
       "      <td>37.600000</td>\n",
       "      <td>37.000000</td>\n",
       "      <td>30.000000</td>\n",
       "      <td>3.600000</td>\n",
       "      <td>40.600000</td>\n",
       "      <td>0.750000</td>\n",
       "      <td>3.800000</td>\n",
       "    </tr>\n",
       "    <tr>\n",
       "      <th>50%</th>\n",
       "      <td>3.000000</td>\n",
       "      <td>595.000000</td>\n",
       "      <td>51.000000</td>\n",
       "      <td>66.400000</td>\n",
       "      <td>65.800000</td>\n",
       "      <td>15.000000</td>\n",
       "      <td>61.800000</td>\n",
       "      <td>60.700000</td>\n",
       "      <td>40.000000</td>\n",
       "      <td>13.500000</td>\n",
       "      <td>68.700000</td>\n",
       "      <td>1.600000</td>\n",
       "      <td>6.400000</td>\n",
       "    </tr>\n",
       "    <tr>\n",
       "      <th>75%</th>\n",
       "      <td>4.000000</td>\n",
       "      <td>851.000000</td>\n",
       "      <td>71.500000</td>\n",
       "      <td>88.000000</td>\n",
       "      <td>88.600000</td>\n",
       "      <td>16.700000</td>\n",
       "      <td>79.600000</td>\n",
       "      <td>80.250000</td>\n",
       "      <td>54.000000</td>\n",
       "      <td>28.350000</td>\n",
       "      <td>85.950000</td>\n",
       "      <td>3.100000</td>\n",
       "      <td>13.800000</td>\n",
       "    </tr>\n",
       "    <tr>\n",
       "      <th>max</th>\n",
       "      <td>5.000000</td>\n",
       "      <td>2314.000000</td>\n",
       "      <td>98.000000</td>\n",
       "      <td>99.800000</td>\n",
       "      <td>99.800000</td>\n",
       "      <td>111.000000</td>\n",
       "      <td>99.000000</td>\n",
       "      <td>98.900000</td>\n",
       "      <td>140.000000</td>\n",
       "      <td>97.400000</td>\n",
       "      <td>99.700000</td>\n",
       "      <td>21.100000</td>\n",
       "      <td>65.200000</td>\n",
       "    </tr>\n",
       "  </tbody>\n",
       "</table>\n",
       "</div>"
      ],
      "text/plain": [
       "       school_rating         size  reduced_lunch  state_percentile_16  \\\n",
       "count     347.000000   347.000000     347.000000           347.000000   \n",
       "mean        2.968300   699.472622      50.279539            58.801729   \n",
       "std         1.690377   400.598636      25.480236            32.540747   \n",
       "min         0.000000    53.000000       2.000000             0.200000   \n",
       "25%         2.000000   420.500000      30.000000            30.950000   \n",
       "50%         3.000000   595.000000      51.000000            66.400000   \n",
       "75%         4.000000   851.000000      71.500000            88.000000   \n",
       "max         5.000000  2314.000000      98.000000            99.800000   \n",
       "\n",
       "       state_percentile_15  stu_teach_ratio  avg_score_15  avg_score_16  \\\n",
       "count           341.000000       347.000000    341.000000    347.000000   \n",
       "mean             58.249267        15.461671     57.004692     57.049856   \n",
       "std              32.702630         5.725170     26.696450     27.968974   \n",
       "min               0.600000         4.700000      1.500000      0.100000   \n",
       "25%              27.100000        13.700000     37.600000     37.000000   \n",
       "50%              65.800000        15.000000     61.800000     60.700000   \n",
       "75%              88.600000        16.700000     79.600000     80.250000   \n",
       "max              99.800000       111.000000     99.000000     98.900000   \n",
       "\n",
       "       full_time_teachers  percent_black  percent_white  percent_asian  \\\n",
       "count          347.000000     347.000000     347.000000     347.000000   \n",
       "mean            44.939481      21.197983      61.673487       2.642651   \n",
       "std             22.053386      23.562538      27.274859       3.109629   \n",
       "min              2.000000       0.000000       1.100000       0.000000   \n",
       "25%             30.000000       3.600000      40.600000       0.750000   \n",
       "50%             40.000000      13.500000      68.700000       1.600000   \n",
       "75%             54.000000      28.350000      85.950000       3.100000   \n",
       "max            140.000000      97.400000      99.700000      21.100000   \n",
       "\n",
       "       percent_hispanic  \n",
       "count        347.000000  \n",
       "mean          11.164553  \n",
       "std           12.030608  \n",
       "min            0.000000  \n",
       "25%            3.800000  \n",
       "50%            6.400000  \n",
       "75%           13.800000  \n",
       "max           65.200000  "
      ]
     },
     "execution_count": 5,
     "metadata": {},
     "output_type": "execute_result"
    },
    {
     "data": {
      "text/plain": [
       "['school_rating',\n",
       " 'size',\n",
       " 'reduced_lunch',\n",
       " 'state_percentile_16',\n",
       " 'state_percentile_15',\n",
       " 'stu_teach_ratio',\n",
       " 'avg_score_15',\n",
       " 'avg_score_16',\n",
       " 'full_time_teachers',\n",
       " 'percent_black',\n",
       " 'percent_white',\n",
       " 'percent_asian',\n",
       " 'percent_hispanic']"
      ]
     },
     "execution_count": 5,
     "metadata": {},
     "output_type": "execute_result"
    }
   ],
   "source": [
    "data.describe()\n",
    "data.describe().columns.tolist()"
   ]
  },
  {
   "cell_type": "code",
   "execution_count": 6,
   "metadata": {},
   "outputs": [
    {
     "data": {
      "text/plain": [
       "name                   0\n",
       "school_rating          0\n",
       "size                   0\n",
       "reduced_lunch          0\n",
       "state_percentile_16    0\n",
       "state_percentile_15    6\n",
       "stu_teach_ratio        0\n",
       "school_type            0\n",
       "avg_score_15           6\n",
       "avg_score_16           0\n",
       "full_time_teachers     0\n",
       "percent_black          0\n",
       "percent_white          0\n",
       "percent_asian          0\n",
       "percent_hispanic       0\n",
       "dtype: int64"
      ]
     },
     "execution_count": 6,
     "metadata": {},
     "output_type": "execute_result"
    }
   ],
   "source": [
    "data.isna().sum()"
   ]
  },
  {
   "cell_type": "code",
   "execution_count": 7,
   "metadata": {},
   "outputs": [
    {
     "data": {
      "text/plain": [
       "(347, 15)"
      ]
     },
     "execution_count": 7,
     "metadata": {},
     "output_type": "execute_result"
    }
   ],
   "source": [
    "data.shape"
   ]
  },
  {
   "cell_type": "code",
   "execution_count": 8,
   "metadata": {},
   "outputs": [
    {
     "name": "stdout",
     "output_type": "stream",
     "text": [
      "<class 'pandas.core.frame.DataFrame'>\n",
      "RangeIndex: 347 entries, 0 to 346\n",
      "Data columns (total 15 columns):\n",
      "name                   347 non-null object\n",
      "school_rating          347 non-null float64\n",
      "size                   347 non-null float64\n",
      "reduced_lunch          347 non-null float64\n",
      "state_percentile_16    347 non-null float64\n",
      "state_percentile_15    341 non-null float64\n",
      "stu_teach_ratio        347 non-null float64\n",
      "school_type            347 non-null object\n",
      "avg_score_15           341 non-null float64\n",
      "avg_score_16           347 non-null float64\n",
      "full_time_teachers     347 non-null float64\n",
      "percent_black          347 non-null float64\n",
      "percent_white          347 non-null float64\n",
      "percent_asian          347 non-null float64\n",
      "percent_hispanic       347 non-null float64\n",
      "dtypes: float64(13), object(2)\n",
      "memory usage: 40.7+ KB\n"
     ]
    }
   ],
   "source": [
    "data.info()"
   ]
  },
  {
   "cell_type": "code",
   "execution_count": 9,
   "metadata": {},
   "outputs": [
    {
     "data": {
      "text/plain": [
       "name                    object\n",
       "school_rating          float64\n",
       "size                   float64\n",
       "reduced_lunch          float64\n",
       "state_percentile_16    float64\n",
       "state_percentile_15    float64\n",
       "stu_teach_ratio        float64\n",
       "school_type             object\n",
       "avg_score_15           float64\n",
       "avg_score_16           float64\n",
       "full_time_teachers     float64\n",
       "percent_black          float64\n",
       "percent_white          float64\n",
       "percent_asian          float64\n",
       "percent_hispanic       float64\n",
       "dtype: object"
      ]
     },
     "execution_count": 9,
     "metadata": {},
     "output_type": "execute_result"
    }
   ],
   "source": [
    "data.dtypes"
   ]
  },
  {
   "cell_type": "code",
   "execution_count": 10,
   "metadata": {},
   "outputs": [
    {
     "data": {
      "text/plain": [
       "4.0    86\n",
       "5.0    78\n",
       "3.0    56\n",
       "2.0    44\n",
       "0.0    43\n",
       "1.0    40\n",
       "Name: school_rating, dtype: int64"
      ]
     },
     "execution_count": 10,
     "metadata": {},
     "output_type": "execute_result"
    }
   ],
   "source": [
    "#Univariate Analysis\n",
    "data['school_rating'].value_counts()"
   ]
  },
  {
   "cell_type": "code",
   "execution_count": 11,
   "metadata": {},
   "outputs": [
    {
     "data": {
      "text/plain": [
       "<matplotlib.axes._subplots.AxesSubplot at 0x24c8bd83a90>"
      ]
     },
     "execution_count": 11,
     "metadata": {},
     "output_type": "execute_result"
    },
    {
     "data": {
      "image/png": "[encoded data removed]",
      "text/plain": [
       "<matplotlib.figure.Figure at 0x24c8bd715c0>"
      ]
     },
     "metadata": {},
     "output_type": "display_data"
    }
   ],
   "source": [
    "sns.countplot(data['school_rating'])"
   ]
  },
  {
   "cell_type": "code",
   "execution_count": 12,
   "metadata": {},
   "outputs": [
    {
     "data": {
      "image/png": "[encoded data removed]",
      "text/plain": [
       "<matplotlib.figure.Figure at 0x24c8be649b0>"
      ]
     },
     "metadata": {},
     "output_type": "display_data"
    }
   ],
   "source": [
    "x= sns.distplot(data['size'], )"
   ]
  },
  {
   "cell_type": "code",
   "execution_count": 13,
   "metadata": {},
   "outputs": [
    {
     "data": {
      "text/plain": [
       "<matplotlib.axes._subplots.AxesSubplot at 0x24c8be7da20>"
      ]
     },
     "execution_count": 13,
     "metadata": {},
     "output_type": "execute_result"
    },
    {
     "data": {
      "image/png": "[encoded data removed]",
      "text/plain": [
       "<matplotlib.figure.Figure at 0x24c8bee4b00>"
      ]
     },
     "metadata": {},
     "output_type": "display_data"
    }
   ],
   "source": [
    "sns.distplot(data['reduced_lunch'])"
   ]
  },
  {
   "cell_type": "code",
   "execution_count": 14,
   "metadata": {},
   "outputs": [
    {
     "data": {
      "text/plain": [
       "array([[<matplotlib.axes._subplots.AxesSubplot object at 0x0000024C8BF13748>,\n",
       "        <matplotlib.axes._subplots.AxesSubplot object at 0x0000024C8BFD07F0>,\n",
       "        <matplotlib.axes._subplots.AxesSubplot object at 0x0000024C8C00D2B0>,\n",
       "        <matplotlib.axes._subplots.AxesSubplot object at 0x0000024C8C03B320>],\n",
       "       [<matplotlib.axes._subplots.AxesSubplot object at 0x0000024C8C077A20>,\n",
       "        <matplotlib.axes._subplots.AxesSubplot object at 0x0000024C8C077A58>,\n",
       "        <matplotlib.axes._subplots.AxesSubplot object at 0x0000024C8C0E0D30>,\n",
       "        <matplotlib.axes._subplots.AxesSubplot object at 0x0000024C8C11D8D0>],\n",
       "       [<matplotlib.axes._subplots.AxesSubplot object at 0x0000024C8C15A400>,\n",
       "        <matplotlib.axes._subplots.AxesSubplot object at 0x0000024C8C16AC18>,\n",
       "        <matplotlib.axes._subplots.AxesSubplot object at 0x0000024C8C1C04E0>,\n",
       "        <matplotlib.axes._subplots.AxesSubplot object at 0x0000024C8C1FF400>],\n",
       "       [<matplotlib.axes._subplots.AxesSubplot object at 0x0000024C8C2160F0>,\n",
       "        <matplotlib.axes._subplots.AxesSubplot object at 0x0000024C8C26CB00>,\n",
       "        <matplotlib.axes._subplots.AxesSubplot object at 0x0000024C8C297CC0>,\n",
       "        <matplotlib.axes._subplots.AxesSubplot object at 0x0000024C8C2D59B0>]],\n",
       "      dtype=object)"
      ]
     },
     "execution_count": 14,
     "metadata": {},
     "output_type": "execute_result"
    },
    {
     "data": {
      "image/png": "[encoded data removed]",
      "text/plain": [
       "<matplotlib.figure.Figure at 0x24c8bf21978>"
      ]
     },
     "metadata": {},
     "output_type": "display_data"
    }
   ],
   "source": [
    "data.hist(grid='True', figsize=(20,10))\n",
    "plt.show()"
   ]
  },
  {
   "cell_type": "code",
   "execution_count": 15,
   "metadata": {},
   "outputs": [
    {
     "data": {
      "text/plain": [
       "'school_rating'"
      ]
     },
     "execution_count": 15,
     "metadata": {},
     "output_type": "execute_result"
    },
    {
     "data": {
      "text/plain": [
       "13"
      ]
     },
     "execution_count": 15,
     "metadata": {},
     "output_type": "execute_result"
    },
    {
     "data": {
      "text/plain": [
       "<matplotlib.axes._subplots.AxesSubplot at 0x24c8c416940>"
      ]
     },
     "execution_count": 15,
     "metadata": {},
     "output_type": "execute_result"
    },
    {
     "data": {
      "text/plain": [
       "<matplotlib.axes._subplots.AxesSubplot at 0x24c8c4474a8>"
      ]
     },
     "execution_count": 15,
     "metadata": {},
     "output_type": "execute_result"
    },
    {
     "data": {
      "text/plain": [
       "<matplotlib.axes._subplots.AxesSubplot at 0x24c8c46bfd0>"
      ]
     },
     "execution_count": 15,
     "metadata": {},
     "output_type": "execute_result"
    },
    {
     "data": {
      "text/plain": [
       "<matplotlib.axes._subplots.AxesSubplot at 0x24c8c4b40b8>"
      ]
     },
     "execution_count": 15,
     "metadata": {},
     "output_type": "execute_result"
    },
    {
     "data": {
      "text/plain": [
       "<matplotlib.axes._subplots.AxesSubplot at 0x24c8c4d2ba8>"
      ]
     },
     "execution_count": 15,
     "metadata": {},
     "output_type": "execute_result"
    },
    {
     "data": {
      "text/plain": [
       "<matplotlib.axes._subplots.AxesSubplot at 0x24c8c512b00>"
      ]
     },
     "execution_count": 15,
     "metadata": {},
     "output_type": "execute_result"
    },
    {
     "data": {
      "text/plain": [
       "<matplotlib.axes._subplots.AxesSubplot at 0x24c8c533b00>"
      ]
     },
     "execution_count": 15,
     "metadata": {},
     "output_type": "execute_result"
    },
    {
     "data": {
      "text/plain": [
       "<matplotlib.axes._subplots.AxesSubplot at 0x24c8c58c1d0>"
      ]
     },
     "execution_count": 15,
     "metadata": {},
     "output_type": "execute_result"
    },
    {
     "data": {
      "text/plain": [
       "<matplotlib.axes._subplots.AxesSubplot at 0x24c8c5b9cf8>"
      ]
     },
     "execution_count": 15,
     "metadata": {},
     "output_type": "execute_result"
    },
    {
     "data": {
      "text/plain": [
       "<matplotlib.axes._subplots.AxesSubplot at 0x24c8c5f50f0>"
      ]
     },
     "execution_count": 15,
     "metadata": {},
     "output_type": "execute_result"
    },
    {
     "data": {
      "text/plain": [
       "<matplotlib.axes._subplots.AxesSubplot at 0x24c8c625c18>"
      ]
     },
     "execution_count": 15,
     "metadata": {},
     "output_type": "execute_result"
    },
    {
     "data": {
      "text/plain": [
       "<matplotlib.axes._subplots.AxesSubplot at 0x24c8c6617f0>"
      ]
     },
     "execution_count": 15,
     "metadata": {},
     "output_type": "execute_result"
    },
    {
     "data": {
      "image/png": "[encoded data removed]",
      "text/plain": [
       "<matplotlib.figure.Figure at 0x24c8c2a4f28>"
      ]
     },
     "metadata": {},
     "output_type": "display_data"
    }
   ],
   "source": [
    "#boxplot\n",
    "\n",
    "list=data.describe().columns.tolist()\n",
    "list[0]\n",
    "len(list)\n",
    "\n",
    "fig,ax= plt.subplots(nrows=3, ncols=4, figsize=(20,10))\n",
    "k=0\n",
    "for i in range(0,3):\n",
    "    for j in range(0,4):\n",
    "            while (k<13):\n",
    "                sns.boxplot(y=data[list[k]], ax=ax[i,j], hue=data['school_rating'])\n",
    "                k=k+1\n",
    "                break\n"
   ]
  },
  {
   "cell_type": "code",
   "execution_count": 16,
   "metadata": {},
   "outputs": [],
   "source": [
    "#replace state percentile 15 and avg score 15 with mean values\n",
    "data.fillna(value=data.mean(), inplace=True)"
   ]
  },
  {
   "cell_type": "code",
   "execution_count": 17,
   "metadata": {},
   "outputs": [
    {
     "data": {
      "text/plain": [
       "name                   0\n",
       "school_rating          0\n",
       "size                   0\n",
       "reduced_lunch          0\n",
       "state_percentile_16    0\n",
       "state_percentile_15    0\n",
       "stu_teach_ratio        0\n",
       "school_type            0\n",
       "avg_score_15           0\n",
       "avg_score_16           0\n",
       "full_time_teachers     0\n",
       "percent_black          0\n",
       "percent_white          0\n",
       "percent_asian          0\n",
       "percent_hispanic       0\n",
       "dtype: int64"
      ]
     },
     "execution_count": 17,
     "metadata": {},
     "output_type": "execute_result"
    }
   ],
   "source": [
    "data.isna().sum()"
   ]
  },
  {
   "cell_type": "code",
   "execution_count": 18,
   "metadata": {},
   "outputs": [
    {
     "data": {
      "text/plain": [
       "school_rating          1.000000\n",
       "state_percentile_16    0.985545\n",
       "avg_score_16           0.982390\n",
       "avg_score_15           0.930439\n",
       "state_percentile_15    0.926961\n",
       "percent_white          0.639014\n",
       "stu_teach_ratio        0.203459\n",
       "size                   0.181428\n",
       "percent_asian          0.161469\n",
       "full_time_teachers     0.122910\n",
       "percent_hispanic      -0.376288\n",
       "percent_black         -0.593869\n",
       "reduced_lunch         -0.815757\n",
       "Name: school_rating, dtype: float64"
      ]
     },
     "execution_count": 18,
     "metadata": {},
     "output_type": "execute_result"
    }
   ],
   "source": [
    "data.corr()['school_rating'].sort_values(ascending=False)"
   ]
  },
  {
   "cell_type": "code",
   "execution_count": 19,
   "metadata": {},
   "outputs": [
    {
     "data": {
      "text/html": [
       "<div>\n",
       "<style scoped>\n",
       "    .dataframe tbody tr th:only-of-type {\n",
       "        vertical-align: middle;\n",
       "    }\n",
       "\n",
       "    .dataframe tbody tr th {\n",
       "        vertical-align: top;\n",
       "    }\n",
       "\n",
       "    .dataframe thead tr th {\n",
       "        text-align: left;\n",
       "    }\n",
       "\n",
       "    .dataframe thead tr:last-of-type th {\n",
       "        text-align: right;\n",
       "    }\n",
       "</style>\n",
       "<table border=\"1\" class=\"dataframe\">\n",
       "  <thead>\n",
       "    <tr>\n",
       "      <th></th>\n",
       "      <th colspan=\"8\" halign=\"left\">size</th>\n",
       "    </tr>\n",
       "    <tr>\n",
       "      <th></th>\n",
       "      <th>count</th>\n",
       "      <th>mean</th>\n",
       "      <th>std</th>\n",
       "      <th>min</th>\n",
       "      <th>25%</th>\n",
       "      <th>50%</th>\n",
       "      <th>75%</th>\n",
       "      <th>max</th>\n",
       "    </tr>\n",
       "    <tr>\n",
       "      <th>school_rating</th>\n",
       "      <th></th>\n",
       "      <th></th>\n",
       "      <th></th>\n",
       "      <th></th>\n",
       "      <th></th>\n",
       "      <th></th>\n",
       "      <th></th>\n",
       "      <th></th>\n",
       "    </tr>\n",
       "  </thead>\n",
       "  <tbody>\n",
       "    <tr>\n",
       "      <th>0.0</th>\n",
       "      <td>43.0</td>\n",
       "      <td>501.325581</td>\n",
       "      <td>217.273880</td>\n",
       "      <td>71.0</td>\n",
       "      <td>367.00</td>\n",
       "      <td>426.0</td>\n",
       "      <td>563.00</td>\n",
       "      <td>1002.0</td>\n",
       "    </tr>\n",
       "    <tr>\n",
       "      <th>1.0</th>\n",
       "      <td>40.0</td>\n",
       "      <td>691.250000</td>\n",
       "      <td>476.695395</td>\n",
       "      <td>118.0</td>\n",
       "      <td>409.50</td>\n",
       "      <td>507.5</td>\n",
       "      <td>759.75</td>\n",
       "      <td>2314.0</td>\n",
       "    </tr>\n",
       "    <tr>\n",
       "      <th>2.0</th>\n",
       "      <td>44.0</td>\n",
       "      <td>628.500000</td>\n",
       "      <td>349.591755</td>\n",
       "      <td>53.0</td>\n",
       "      <td>368.25</td>\n",
       "      <td>558.0</td>\n",
       "      <td>752.75</td>\n",
       "      <td>1771.0</td>\n",
       "    </tr>\n",
       "    <tr>\n",
       "      <th>3.0</th>\n",
       "      <td>56.0</td>\n",
       "      <td>762.482143</td>\n",
       "      <td>399.760564</td>\n",
       "      <td>249.0</td>\n",
       "      <td>491.00</td>\n",
       "      <td>652.5</td>\n",
       "      <td>880.50</td>\n",
       "      <td>1983.0</td>\n",
       "    </tr>\n",
       "    <tr>\n",
       "      <th>4.0</th>\n",
       "      <td>86.0</td>\n",
       "      <td>742.732558</td>\n",
       "      <td>403.389242</td>\n",
       "      <td>141.0</td>\n",
       "      <td>452.50</td>\n",
       "      <td>641.5</td>\n",
       "      <td>934.75</td>\n",
       "      <td>2025.0</td>\n",
       "    </tr>\n",
       "    <tr>\n",
       "      <th>5.0</th>\n",
       "      <td>78.0</td>\n",
       "      <td>760.025641</td>\n",
       "      <td>429.780553</td>\n",
       "      <td>122.0</td>\n",
       "      <td>515.50</td>\n",
       "      <td>678.5</td>\n",
       "      <td>876.50</td>\n",
       "      <td>2251.0</td>\n",
       "    </tr>\n",
       "  </tbody>\n",
       "</table>\n",
       "</div>"
      ],
      "text/plain": [
       "               size                                                        \\\n",
       "              count        mean         std    min     25%    50%     75%   \n",
       "school_rating                                                               \n",
       "0.0            43.0  501.325581  217.273880   71.0  367.00  426.0  563.00   \n",
       "1.0            40.0  691.250000  476.695395  118.0  409.50  507.5  759.75   \n",
       "2.0            44.0  628.500000  349.591755   53.0  368.25  558.0  752.75   \n",
       "3.0            56.0  762.482143  399.760564  249.0  491.00  652.5  880.50   \n",
       "4.0            86.0  742.732558  403.389242  141.0  452.50  641.5  934.75   \n",
       "5.0            78.0  760.025641  429.780553  122.0  515.50  678.5  876.50   \n",
       "\n",
       "                       \n",
       "                  max  \n",
       "school_rating          \n",
       "0.0            1002.0  \n",
       "1.0            2314.0  \n",
       "2.0            1771.0  \n",
       "3.0            1983.0  \n",
       "4.0            2025.0  \n",
       "5.0            2251.0  "
      ]
     },
     "execution_count": 19,
     "metadata": {},
     "output_type": "execute_result"
    }
   ],
   "source": [
    "data[['school_rating', 'size']].groupby(by='school_rating').describe()"
   ]
  },
  {
   "cell_type": "code",
   "execution_count": 20,
   "metadata": {},
   "outputs": [
    {
     "data": {
      "image/png": "[encoded data removed]",
      "text/plain": [
       "<matplotlib.figure.Figure at 0x24c8c7cf710>"
      ]
     },
     "metadata": {},
     "output_type": "display_data"
    }
   ],
   "source": [
    "plot=sns.heatmap(data.corr(), linecolor='white', linewidths=0.1)"
   ]
  },
  {
   "cell_type": "code",
   "execution_count": 21,
   "metadata": {},
   "outputs": [
    {
     "data": {
      "text/html": [
       "<div>\n",
       "<style scoped>\n",
       "    .dataframe tbody tr th:only-of-type {\n",
       "        vertical-align: middle;\n",
       "    }\n",
       "\n",
       "    .dataframe tbody tr th {\n",
       "        vertical-align: top;\n",
       "    }\n",
       "\n",
       "    .dataframe thead th {\n",
       "        text-align: right;\n",
       "    }\n",
       "</style>\n",
       "<table border=\"1\" class=\"dataframe\">\n",
       "  <thead>\n",
       "    <tr style=\"text-align: right;\">\n",
       "      <th></th>\n",
       "      <th>school_rating</th>\n",
       "      <th>size</th>\n",
       "      <th>reduced_lunch</th>\n",
       "      <th>state_percentile_16</th>\n",
       "      <th>state_percentile_15</th>\n",
       "      <th>stu_teach_ratio</th>\n",
       "      <th>avg_score_15</th>\n",
       "      <th>avg_score_16</th>\n",
       "      <th>full_time_teachers</th>\n",
       "      <th>percent_black</th>\n",
       "      <th>percent_white</th>\n",
       "      <th>percent_asian</th>\n",
       "      <th>percent_hispanic</th>\n",
       "    </tr>\n",
       "  </thead>\n",
       "  <tbody>\n",
       "    <tr>\n",
       "      <th>school_rating</th>\n",
       "      <td>1.000000</td>\n",
       "      <td>0.181428</td>\n",
       "      <td>-0.815757</td>\n",
       "      <td>0.985545</td>\n",
       "      <td>0.926961</td>\n",
       "      <td>0.203459</td>\n",
       "      <td>0.930439</td>\n",
       "      <td>0.982390</td>\n",
       "      <td>0.122910</td>\n",
       "      <td>-0.593869</td>\n",
       "      <td>0.639014</td>\n",
       "      <td>0.161469</td>\n",
       "      <td>-0.376288</td>\n",
       "    </tr>\n",
       "    <tr>\n",
       "      <th>size</th>\n",
       "      <td>0.181428</td>\n",
       "      <td>1.000000</td>\n",
       "      <td>-0.277807</td>\n",
       "      <td>0.171060</td>\n",
       "      <td>0.161619</td>\n",
       "      <td>0.143173</td>\n",
       "      <td>0.160528</td>\n",
       "      <td>0.143289</td>\n",
       "      <td>0.966880</td>\n",
       "      <td>-0.148405</td>\n",
       "      <td>0.102904</td>\n",
       "      <td>0.193491</td>\n",
       "      <td>-0.017660</td>\n",
       "    </tr>\n",
       "    <tr>\n",
       "      <th>reduced_lunch</th>\n",
       "      <td>-0.815757</td>\n",
       "      <td>-0.277807</td>\n",
       "      <td>1.000000</td>\n",
       "      <td>-0.815720</td>\n",
       "      <td>-0.814655</td>\n",
       "      <td>-0.197428</td>\n",
       "      <td>-0.828924</td>\n",
       "      <td>-0.816479</td>\n",
       "      <td>-0.214848</td>\n",
       "      <td>0.562921</td>\n",
       "      <td>-0.668327</td>\n",
       "      <td>-0.226385</td>\n",
       "      <td>0.490446</td>\n",
       "    </tr>\n",
       "    <tr>\n",
       "      <th>state_percentile_16</th>\n",
       "      <td>0.985545</td>\n",
       "      <td>0.171060</td>\n",
       "      <td>-0.815720</td>\n",
       "      <td>1.000000</td>\n",
       "      <td>0.938665</td>\n",
       "      <td>0.186893</td>\n",
       "      <td>0.938173</td>\n",
       "      <td>0.994085</td>\n",
       "      <td>0.117061</td>\n",
       "      <td>-0.573810</td>\n",
       "      <td>0.625374</td>\n",
       "      <td>0.151021</td>\n",
       "      <td>-0.383017</td>\n",
       "    </tr>\n",
       "    <tr>\n",
       "      <th>state_percentile_15</th>\n",
       "      <td>0.926961</td>\n",
       "      <td>0.161619</td>\n",
       "      <td>-0.814655</td>\n",
       "      <td>0.938665</td>\n",
       "      <td>1.000000</td>\n",
       "      <td>0.139916</td>\n",
       "      <td>0.991847</td>\n",
       "      <td>0.934655</td>\n",
       "      <td>0.108477</td>\n",
       "      <td>-0.554115</td>\n",
       "      <td>0.602210</td>\n",
       "      <td>0.181180</td>\n",
       "      <td>-0.370055</td>\n",
       "    </tr>\n",
       "    <tr>\n",
       "      <th>stu_teach_ratio</th>\n",
       "      <td>0.203459</td>\n",
       "      <td>0.143173</td>\n",
       "      <td>-0.197428</td>\n",
       "      <td>0.186893</td>\n",
       "      <td>0.139916</td>\n",
       "      <td>1.000000</td>\n",
       "      <td>0.146757</td>\n",
       "      <td>0.175880</td>\n",
       "      <td>0.019594</td>\n",
       "      <td>-0.122307</td>\n",
       "      <td>0.134595</td>\n",
       "      <td>0.089211</td>\n",
       "      <td>-0.089307</td>\n",
       "    </tr>\n",
       "    <tr>\n",
       "      <th>avg_score_15</th>\n",
       "      <td>0.930439</td>\n",
       "      <td>0.160528</td>\n",
       "      <td>-0.828924</td>\n",
       "      <td>0.938173</td>\n",
       "      <td>0.991847</td>\n",
       "      <td>0.146757</td>\n",
       "      <td>1.000000</td>\n",
       "      <td>0.942176</td>\n",
       "      <td>0.104138</td>\n",
       "      <td>-0.583672</td>\n",
       "      <td>0.627114</td>\n",
       "      <td>0.191975</td>\n",
       "      <td>-0.372635</td>\n",
       "    </tr>\n",
       "    <tr>\n",
       "      <th>avg_score_16</th>\n",
       "      <td>0.982390</td>\n",
       "      <td>0.143289</td>\n",
       "      <td>-0.816479</td>\n",
       "      <td>0.994085</td>\n",
       "      <td>0.934655</td>\n",
       "      <td>0.175880</td>\n",
       "      <td>0.942176</td>\n",
       "      <td>1.000000</td>\n",
       "      <td>0.089338</td>\n",
       "      <td>-0.592876</td>\n",
       "      <td>0.635201</td>\n",
       "      <td>0.172739</td>\n",
       "      <td>-0.373618</td>\n",
       "    </tr>\n",
       "    <tr>\n",
       "      <th>full_time_teachers</th>\n",
       "      <td>0.122910</td>\n",
       "      <td>0.966880</td>\n",
       "      <td>-0.214848</td>\n",
       "      <td>0.117061</td>\n",
       "      <td>0.108477</td>\n",
       "      <td>0.019594</td>\n",
       "      <td>0.104138</td>\n",
       "      <td>0.089338</td>\n",
       "      <td>1.000000</td>\n",
       "      <td>-0.113515</td>\n",
       "      <td>0.055672</td>\n",
       "      <td>0.146726</td>\n",
       "      <td>0.026130</td>\n",
       "    </tr>\n",
       "    <tr>\n",
       "      <th>percent_black</th>\n",
       "      <td>-0.593869</td>\n",
       "      <td>-0.148405</td>\n",
       "      <td>0.562921</td>\n",
       "      <td>-0.573810</td>\n",
       "      <td>-0.554115</td>\n",
       "      <td>-0.122307</td>\n",
       "      <td>-0.583672</td>\n",
       "      <td>-0.592876</td>\n",
       "      <td>-0.113515</td>\n",
       "      <td>1.000000</td>\n",
       "      <td>-0.874202</td>\n",
       "      <td>-0.112274</td>\n",
       "      <td>0.086627</td>\n",
       "    </tr>\n",
       "    <tr>\n",
       "      <th>percent_white</th>\n",
       "      <td>0.639014</td>\n",
       "      <td>0.102904</td>\n",
       "      <td>-0.668327</td>\n",
       "      <td>0.625374</td>\n",
       "      <td>0.602210</td>\n",
       "      <td>0.134595</td>\n",
       "      <td>0.627114</td>\n",
       "      <td>0.635201</td>\n",
       "      <td>0.055672</td>\n",
       "      <td>-0.874202</td>\n",
       "      <td>1.000000</td>\n",
       "      <td>-0.092287</td>\n",
       "      <td>-0.537571</td>\n",
       "    </tr>\n",
       "    <tr>\n",
       "      <th>percent_asian</th>\n",
       "      <td>0.161469</td>\n",
       "      <td>0.193491</td>\n",
       "      <td>-0.226385</td>\n",
       "      <td>0.151021</td>\n",
       "      <td>0.181180</td>\n",
       "      <td>0.089211</td>\n",
       "      <td>0.191975</td>\n",
       "      <td>0.172739</td>\n",
       "      <td>0.146726</td>\n",
       "      <td>-0.112274</td>\n",
       "      <td>-0.092287</td>\n",
       "      <td>1.000000</td>\n",
       "      <td>0.187277</td>\n",
       "    </tr>\n",
       "    <tr>\n",
       "      <th>percent_hispanic</th>\n",
       "      <td>-0.376288</td>\n",
       "      <td>-0.017660</td>\n",
       "      <td>0.490446</td>\n",
       "      <td>-0.383017</td>\n",
       "      <td>-0.370055</td>\n",
       "      <td>-0.089307</td>\n",
       "      <td>-0.372635</td>\n",
       "      <td>-0.373618</td>\n",
       "      <td>0.026130</td>\n",
       "      <td>0.086627</td>\n",
       "      <td>-0.537571</td>\n",
       "      <td>0.187277</td>\n",
       "      <td>1.000000</td>\n",
       "    </tr>\n",
       "  </tbody>\n",
       "</table>\n",
       "</div>"
      ],
      "text/plain": [
       "                     school_rating      size  reduced_lunch  \\\n",
       "school_rating             1.000000  0.181428      -0.815757   \n",
       "size                      0.181428  1.000000      -0.277807   \n",
       "reduced_lunch            -0.815757 -0.277807       1.000000   \n",
       "state_percentile_16       0.985545  0.171060      -0.815720   \n",
       "state_percentile_15       0.926961  0.161619      -0.814655   \n",
       "stu_teach_ratio           0.203459  0.143173      -0.197428   \n",
       "avg_score_15              0.930439  0.160528      -0.828924   \n",
       "avg_score_16              0.982390  0.143289      -0.816479   \n",
       "full_time_teachers        0.122910  0.966880      -0.214848   \n",
       "percent_black            -0.593869 -0.148405       0.562921   \n",
       "percent_white             0.639014  0.102904      -0.668327   \n",
       "percent_asian             0.161469  0.193491      -0.226385   \n",
       "percent_hispanic         -0.376288 -0.017660       0.490446   \n",
       "\n",
       "                     state_percentile_16  state_percentile_15  \\\n",
       "school_rating                   0.985545             0.926961   \n",
       "size                            0.171060             0.161619   \n",
       "reduced_lunch                  -0.815720            -0.814655   \n",
       "state_percentile_16             1.000000             0.938665   \n",
       "state_percentile_15             0.938665             1.000000   \n",
       "stu_teach_ratio                 0.186893             0.139916   \n",
       "avg_score_15                    0.938173             0.991847   \n",
       "avg_score_16                    0.994085             0.934655   \n",
       "full_time_teachers              0.117061             0.108477   \n",
       "percent_black                  -0.573810            -0.554115   \n",
       "percent_white                   0.625374             0.602210   \n",
       "percent_asian                   0.151021             0.181180   \n",
       "percent_hispanic               -0.383017            -0.370055   \n",
       "\n",
       "                     stu_teach_ratio  avg_score_15  avg_score_16  \\\n",
       "school_rating               0.203459      0.930439      0.982390   \n",
       "size                        0.143173      0.160528      0.143289   \n",
       "reduced_lunch              -0.197428     -0.828924     -0.816479   \n",
       "state_percentile_16         0.186893      0.938173      0.994085   \n",
       "state_percentile_15         0.139916      0.991847      0.934655   \n",
       "stu_teach_ratio             1.000000      0.146757      0.175880   \n",
       "avg_score_15                0.146757      1.000000      0.942176   \n",
       "avg_score_16                0.175880      0.942176      1.000000   \n",
       "full_time_teachers          0.019594      0.104138      0.089338   \n",
       "percent_black              -0.122307     -0.583672     -0.592876   \n",
       "percent_white               0.134595      0.627114      0.635201   \n",
       "percent_asian               0.089211      0.191975      0.172739   \n",
       "percent_hispanic           -0.089307     -0.372635     -0.373618   \n",
       "\n",
       "                     full_time_teachers  percent_black  percent_white  \\\n",
       "school_rating                  0.122910      -0.593869       0.639014   \n",
       "size                           0.966880      -0.148405       0.102904   \n",
       "reduced_lunch                 -0.214848       0.562921      -0.668327   \n",
       "state_percentile_16            0.117061      -0.573810       0.625374   \n",
       "state_percentile_15            0.108477      -0.554115       0.602210   \n",
       "stu_teach_ratio                0.019594      -0.122307       0.134595   \n",
       "avg_score_15                   0.104138      -0.583672       0.627114   \n",
       "avg_score_16                   0.089338      -0.592876       0.635201   \n",
       "full_time_teachers             1.000000      -0.113515       0.055672   \n",
       "percent_black                 -0.113515       1.000000      -0.874202   \n",
       "percent_white                  0.055672      -0.874202       1.000000   \n",
       "percent_asian                  0.146726      -0.112274      -0.092287   \n",
       "percent_hispanic               0.026130       0.086627      -0.537571   \n",
       "\n",
       "                     percent_asian  percent_hispanic  \n",
       "school_rating             0.161469         -0.376288  \n",
       "size                      0.193491         -0.017660  \n",
       "reduced_lunch            -0.226385          0.490446  \n",
       "state_percentile_16       0.151021         -0.383017  \n",
       "state_percentile_15       0.181180         -0.370055  \n",
       "stu_teach_ratio           0.089211         -0.089307  \n",
       "avg_score_15              0.191975         -0.372635  \n",
       "avg_score_16              0.172739         -0.373618  \n",
       "full_time_teachers        0.146726          0.026130  \n",
       "percent_black            -0.112274          0.086627  \n",
       "percent_white            -0.092287         -0.537571  \n",
       "percent_asian             1.000000          0.187277  \n",
       "percent_hispanic          0.187277          1.000000  "
      ]
     },
     "execution_count": 21,
     "metadata": {},
     "output_type": "execute_result"
    }
   ],
   "source": [
    "data.corr()"
   ]
  },
  {
   "cell_type": "code",
   "execution_count": 22,
   "metadata": {},
   "outputs": [
    {
     "data": {
      "text/html": [
       "<div>\n",
       "<style scoped>\n",
       "    .dataframe tbody tr th:only-of-type {\n",
       "        vertical-align: middle;\n",
       "    }\n",
       "\n",
       "    .dataframe tbody tr th {\n",
       "        vertical-align: top;\n",
       "    }\n",
       "\n",
       "    .dataframe thead th {\n",
       "        text-align: right;\n",
       "    }\n",
       "</style>\n",
       "<table border=\"1\" class=\"dataframe\">\n",
       "  <thead>\n",
       "    <tr style=\"text-align: right;\">\n",
       "      <th></th>\n",
       "      <th>count</th>\n",
       "      <th>unique</th>\n",
       "      <th>top</th>\n",
       "      <th>freq</th>\n",
       "    </tr>\n",
       "    <tr>\n",
       "      <th>school_rating</th>\n",
       "      <th></th>\n",
       "      <th></th>\n",
       "      <th></th>\n",
       "      <th></th>\n",
       "    </tr>\n",
       "  </thead>\n",
       "  <tbody>\n",
       "    <tr>\n",
       "      <th>0.0</th>\n",
       "      <td>43</td>\n",
       "      <td>3</td>\n",
       "      <td>Public</td>\n",
       "      <td>22</td>\n",
       "    </tr>\n",
       "    <tr>\n",
       "      <th>1.0</th>\n",
       "      <td>40</td>\n",
       "      <td>2</td>\n",
       "      <td>Public</td>\n",
       "      <td>36</td>\n",
       "    </tr>\n",
       "    <tr>\n",
       "      <th>2.0</th>\n",
       "      <td>44</td>\n",
       "      <td>3</td>\n",
       "      <td>Public</td>\n",
       "      <td>42</td>\n",
       "    </tr>\n",
       "    <tr>\n",
       "      <th>3.0</th>\n",
       "      <td>56</td>\n",
       "      <td>3</td>\n",
       "      <td>Public</td>\n",
       "      <td>48</td>\n",
       "    </tr>\n",
       "    <tr>\n",
       "      <th>4.0</th>\n",
       "      <td>86</td>\n",
       "      <td>3</td>\n",
       "      <td>Public</td>\n",
       "      <td>81</td>\n",
       "    </tr>\n",
       "    <tr>\n",
       "      <th>5.0</th>\n",
       "      <td>78</td>\n",
       "      <td>4</td>\n",
       "      <td>Public</td>\n",
       "      <td>63</td>\n",
       "    </tr>\n",
       "  </tbody>\n",
       "</table>\n",
       "</div>"
      ],
      "text/plain": [
       "              count unique     top freq\n",
       "school_rating                          \n",
       "0.0              43      3  Public   22\n",
       "1.0              40      2  Public   36\n",
       "2.0              44      3  Public   42\n",
       "3.0              56      3  Public   48\n",
       "4.0              86      3  Public   81\n",
       "5.0              78      4  Public   63"
      ]
     },
     "execution_count": 22,
     "metadata": {},
     "output_type": "execute_result"
    }
   ],
   "source": [
    "data.groupby(by='school_rating')['school_type'].describe()"
   ]
  },
  {
   "cell_type": "code",
   "execution_count": 23,
   "metadata": {},
   "outputs": [],
   "source": [
    "#Predictive analysis\n",
    "#Ordinal Regression\n",
    "\n",
    "import warnings\n",
    "warnings.filterwarnings('ignore')\n",
    "\n",
    "Y= data.iloc[:,1]\n",
    "X= data.iloc[:,2:]"
   ]
  },
  {
   "cell_type": "code",
   "execution_count": 24,
   "metadata": {},
   "outputs": [
    {
     "data": {
      "text/plain": [
       "Public            292\n",
       "Public Magnet      46\n",
       "Public Charter      8\n",
       "Public Virtual      1\n",
       "Name: school_type, dtype: int64"
      ]
     },
     "execution_count": 24,
     "metadata": {},
     "output_type": "execute_result"
    }
   ],
   "source": [
    "X['school_type'].value_counts()"
   ]
  },
  {
   "cell_type": "code",
   "execution_count": 25,
   "metadata": {},
   "outputs": [],
   "source": [
    "#from sklearn.preprocessing import LabelEncoder, OneHotEncoder"
   ]
  },
  {
   "cell_type": "code",
   "execution_count": 26,
   "metadata": {},
   "outputs": [],
   "source": [
    "#le=LabelEncoder()\n",
    "#X['school_type']=le.fit_transform(X['school_type'])"
   ]
  },
  {
   "cell_type": "code",
   "execution_count": 27,
   "metadata": {},
   "outputs": [
    {
     "data": {
      "text/html": [
       "<div>\n",
       "<style scoped>\n",
       "    .dataframe tbody tr th:only-of-type {\n",
       "        vertical-align: middle;\n",
       "    }\n",
       "\n",
       "    .dataframe tbody tr th {\n",
       "        vertical-align: top;\n",
       "    }\n",
       "\n",
       "    .dataframe thead th {\n",
       "        text-align: right;\n",
       "    }\n",
       "</style>\n",
       "<table border=\"1\" class=\"dataframe\">\n",
       "  <thead>\n",
       "    <tr style=\"text-align: right;\">\n",
       "      <th></th>\n",
       "      <th>size</th>\n",
       "      <th>reduced_lunch</th>\n",
       "      <th>state_percentile_16</th>\n",
       "      <th>state_percentile_15</th>\n",
       "      <th>stu_teach_ratio</th>\n",
       "      <th>school_type</th>\n",
       "      <th>avg_score_15</th>\n",
       "      <th>avg_score_16</th>\n",
       "      <th>full_time_teachers</th>\n",
       "      <th>percent_black</th>\n",
       "      <th>percent_white</th>\n",
       "      <th>percent_asian</th>\n",
       "      <th>percent_hispanic</th>\n",
       "    </tr>\n",
       "  </thead>\n",
       "  <tbody>\n",
       "    <tr>\n",
       "      <th>0</th>\n",
       "      <td>851.0</td>\n",
       "      <td>10.0</td>\n",
       "      <td>90.2</td>\n",
       "      <td>95.8</td>\n",
       "      <td>15.7</td>\n",
       "      <td>Public</td>\n",
       "      <td>89.4</td>\n",
       "      <td>85.2</td>\n",
       "      <td>54.0</td>\n",
       "      <td>2.9</td>\n",
       "      <td>85.5</td>\n",
       "      <td>1.6</td>\n",
       "      <td>5.6</td>\n",
       "    </tr>\n",
       "    <tr>\n",
       "      <th>1</th>\n",
       "      <td>412.0</td>\n",
       "      <td>71.0</td>\n",
       "      <td>32.8</td>\n",
       "      <td>37.3</td>\n",
       "      <td>12.8</td>\n",
       "      <td>Public</td>\n",
       "      <td>43.0</td>\n",
       "      <td>38.3</td>\n",
       "      <td>32.0</td>\n",
       "      <td>3.9</td>\n",
       "      <td>86.7</td>\n",
       "      <td>1.0</td>\n",
       "      <td>4.9</td>\n",
       "    </tr>\n",
       "    <tr>\n",
       "      <th>2</th>\n",
       "      <td>482.0</td>\n",
       "      <td>43.0</td>\n",
       "      <td>78.4</td>\n",
       "      <td>83.6</td>\n",
       "      <td>16.6</td>\n",
       "      <td>Public</td>\n",
       "      <td>75.7</td>\n",
       "      <td>73.0</td>\n",
       "      <td>29.0</td>\n",
       "      <td>1.0</td>\n",
       "      <td>91.5</td>\n",
       "      <td>1.2</td>\n",
       "      <td>4.4</td>\n",
       "    </tr>\n",
       "    <tr>\n",
       "      <th>3</th>\n",
       "      <td>394.0</td>\n",
       "      <td>91.0</td>\n",
       "      <td>1.6</td>\n",
       "      <td>1.0</td>\n",
       "      <td>13.1</td>\n",
       "      <td>Public Magnet</td>\n",
       "      <td>2.1</td>\n",
       "      <td>4.4</td>\n",
       "      <td>30.0</td>\n",
       "      <td>80.7</td>\n",
       "      <td>11.7</td>\n",
       "      <td>2.3</td>\n",
       "      <td>4.3</td>\n",
       "    </tr>\n",
       "    <tr>\n",
       "      <th>4</th>\n",
       "      <td>948.0</td>\n",
       "      <td>26.0</td>\n",
       "      <td>85.3</td>\n",
       "      <td>89.2</td>\n",
       "      <td>14.8</td>\n",
       "      <td>Public</td>\n",
       "      <td>81.3</td>\n",
       "      <td>79.6</td>\n",
       "      <td>64.0</td>\n",
       "      <td>11.8</td>\n",
       "      <td>71.2</td>\n",
       "      <td>7.1</td>\n",
       "      <td>6.0</td>\n",
       "    </tr>\n",
       "  </tbody>\n",
       "</table>\n",
       "</div>"
      ],
      "text/plain": [
       "    size  reduced_lunch  state_percentile_16  state_percentile_15  \\\n",
       "0  851.0           10.0                 90.2                 95.8   \n",
       "1  412.0           71.0                 32.8                 37.3   \n",
       "2  482.0           43.0                 78.4                 83.6   \n",
       "3  394.0           91.0                  1.6                  1.0   \n",
       "4  948.0           26.0                 85.3                 89.2   \n",
       "\n",
       "   stu_teach_ratio    school_type  avg_score_15  avg_score_16  \\\n",
       "0             15.7         Public          89.4          85.2   \n",
       "1             12.8         Public          43.0          38.3   \n",
       "2             16.6         Public          75.7          73.0   \n",
       "3             13.1  Public Magnet           2.1           4.4   \n",
       "4             14.8         Public          81.3          79.6   \n",
       "\n",
       "   full_time_teachers  percent_black  percent_white  percent_asian  \\\n",
       "0                54.0            2.9           85.5            1.6   \n",
       "1                32.0            3.9           86.7            1.0   \n",
       "2                29.0            1.0           91.5            1.2   \n",
       "3                30.0           80.7           11.7            2.3   \n",
       "4                64.0           11.8           71.2            7.1   \n",
       "\n",
       "   percent_hispanic  \n",
       "0               5.6  \n",
       "1               4.9  \n",
       "2               4.4  \n",
       "3               4.3  \n",
       "4               6.0  "
      ]
     },
     "execution_count": 27,
     "metadata": {},
     "output_type": "execute_result"
    }
   ],
   "source": [
    "X.head()"
   ]
  },
  {
   "cell_type": "raw",
   "metadata": {},
   "source": [
    "ohe=OneHotEncoder(categorical_features=[6])\n",
    "X= ohe.fit_transform(X)"
   ]
  },
  {
   "cell_type": "code",
   "execution_count": 28,
   "metadata": {},
   "outputs": [],
   "source": [
    "X= pd.get_dummies(X, columns=['school_type'])\n",
    "X.drop('school_type_Public Virtual', axis=1, inplace=True)"
   ]
  },
  {
   "cell_type": "code",
   "execution_count": 29,
   "metadata": {},
   "outputs": [
    {
     "data": {
      "text/html": [
       "<div>\n",
       "<style scoped>\n",
       "    .dataframe tbody tr th:only-of-type {\n",
       "        vertical-align: middle;\n",
       "    }\n",
       "\n",
       "    .dataframe tbody tr th {\n",
       "        vertical-align: top;\n",
       "    }\n",
       "\n",
       "    .dataframe thead th {\n",
       "        text-align: right;\n",
       "    }\n",
       "</style>\n",
       "<table border=\"1\" class=\"dataframe\">\n",
       "  <thead>\n",
       "    <tr style=\"text-align: right;\">\n",
       "      <th></th>\n",
       "      <th>size</th>\n",
       "      <th>reduced_lunch</th>\n",
       "      <th>state_percentile_16</th>\n",
       "      <th>state_percentile_15</th>\n",
       "      <th>stu_teach_ratio</th>\n",
       "      <th>avg_score_15</th>\n",
       "      <th>avg_score_16</th>\n",
       "      <th>full_time_teachers</th>\n",
       "      <th>percent_black</th>\n",
       "      <th>percent_white</th>\n",
       "      <th>percent_asian</th>\n",
       "      <th>percent_hispanic</th>\n",
       "      <th>school_type_Public</th>\n",
       "      <th>school_type_Public Charter</th>\n",
       "      <th>school_type_Public Magnet</th>\n",
       "    </tr>\n",
       "  </thead>\n",
       "  <tbody>\n",
       "    <tr>\n",
       "      <th>0</th>\n",
       "      <td>851.0</td>\n",
       "      <td>10.0</td>\n",
       "      <td>90.2</td>\n",
       "      <td>95.8</td>\n",
       "      <td>15.7</td>\n",
       "      <td>89.4</td>\n",
       "      <td>85.2</td>\n",
       "      <td>54.0</td>\n",
       "      <td>2.9</td>\n",
       "      <td>85.5</td>\n",
       "      <td>1.6</td>\n",
       "      <td>5.6</td>\n",
       "      <td>1</td>\n",
       "      <td>0</td>\n",
       "      <td>0</td>\n",
       "    </tr>\n",
       "    <tr>\n",
       "      <th>1</th>\n",
       "      <td>412.0</td>\n",
       "      <td>71.0</td>\n",
       "      <td>32.8</td>\n",
       "      <td>37.3</td>\n",
       "      <td>12.8</td>\n",
       "      <td>43.0</td>\n",
       "      <td>38.3</td>\n",
       "      <td>32.0</td>\n",
       "      <td>3.9</td>\n",
       "      <td>86.7</td>\n",
       "      <td>1.0</td>\n",
       "      <td>4.9</td>\n",
       "      <td>1</td>\n",
       "      <td>0</td>\n",
       "      <td>0</td>\n",
       "    </tr>\n",
       "    <tr>\n",
       "      <th>2</th>\n",
       "      <td>482.0</td>\n",
       "      <td>43.0</td>\n",
       "      <td>78.4</td>\n",
       "      <td>83.6</td>\n",
       "      <td>16.6</td>\n",
       "      <td>75.7</td>\n",
       "      <td>73.0</td>\n",
       "      <td>29.0</td>\n",
       "      <td>1.0</td>\n",
       "      <td>91.5</td>\n",
       "      <td>1.2</td>\n",
       "      <td>4.4</td>\n",
       "      <td>1</td>\n",
       "      <td>0</td>\n",
       "      <td>0</td>\n",
       "    </tr>\n",
       "    <tr>\n",
       "      <th>3</th>\n",
       "      <td>394.0</td>\n",
       "      <td>91.0</td>\n",
       "      <td>1.6</td>\n",
       "      <td>1.0</td>\n",
       "      <td>13.1</td>\n",
       "      <td>2.1</td>\n",
       "      <td>4.4</td>\n",
       "      <td>30.0</td>\n",
       "      <td>80.7</td>\n",
       "      <td>11.7</td>\n",
       "      <td>2.3</td>\n",
       "      <td>4.3</td>\n",
       "      <td>0</td>\n",
       "      <td>0</td>\n",
       "      <td>1</td>\n",
       "    </tr>\n",
       "    <tr>\n",
       "      <th>4</th>\n",
       "      <td>948.0</td>\n",
       "      <td>26.0</td>\n",
       "      <td>85.3</td>\n",
       "      <td>89.2</td>\n",
       "      <td>14.8</td>\n",
       "      <td>81.3</td>\n",
       "      <td>79.6</td>\n",
       "      <td>64.0</td>\n",
       "      <td>11.8</td>\n",
       "      <td>71.2</td>\n",
       "      <td>7.1</td>\n",
       "      <td>6.0</td>\n",
       "      <td>1</td>\n",
       "      <td>0</td>\n",
       "      <td>0</td>\n",
       "    </tr>\n",
       "  </tbody>\n",
       "</table>\n",
       "</div>"
      ],
      "text/plain": [
       "    size  reduced_lunch  state_percentile_16  state_percentile_15  \\\n",
       "0  851.0           10.0                 90.2                 95.8   \n",
       "1  412.0           71.0                 32.8                 37.3   \n",
       "2  482.0           43.0                 78.4                 83.6   \n",
       "3  394.0           91.0                  1.6                  1.0   \n",
       "4  948.0           26.0                 85.3                 89.2   \n",
       "\n",
       "   stu_teach_ratio  avg_score_15  avg_score_16  full_time_teachers  \\\n",
       "0             15.7          89.4          85.2                54.0   \n",
       "1             12.8          43.0          38.3                32.0   \n",
       "2             16.6          75.7          73.0                29.0   \n",
       "3             13.1           2.1           4.4                30.0   \n",
       "4             14.8          81.3          79.6                64.0   \n",
       "\n",
       "   percent_black  percent_white  percent_asian  percent_hispanic  \\\n",
       "0            2.9           85.5            1.6               5.6   \n",
       "1            3.9           86.7            1.0               4.9   \n",
       "2            1.0           91.5            1.2               4.4   \n",
       "3           80.7           11.7            2.3               4.3   \n",
       "4           11.8           71.2            7.1               6.0   \n",
       "\n",
       "   school_type_Public  school_type_Public Charter  school_type_Public Magnet  \n",
       "0                   1                           0                          0  \n",
       "1                   1                           0                          0  \n",
       "2                   1                           0                          0  \n",
       "3                   0                           0                          1  \n",
       "4                   1                           0                          0  "
      ]
     },
     "execution_count": 29,
     "metadata": {},
     "output_type": "execute_result"
    }
   ],
   "source": [
    "X.head()"
   ]
  },
  {
   "cell_type": "code",
   "execution_count": 30,
   "metadata": {},
   "outputs": [
    {
     "data": {
      "text/plain": [
       "0    5.0\n",
       "1    2.0\n",
       "2    4.0\n",
       "3    0.0\n",
       "4    4.0\n",
       "Name: school_rating, dtype: float64"
      ]
     },
     "execution_count": 30,
     "metadata": {},
     "output_type": "execute_result"
    }
   ],
   "source": [
    "Y.head()"
   ]
  },
  {
   "cell_type": "code",
   "execution_count": 31,
   "metadata": {},
   "outputs": [],
   "source": [
    "from sklearn.model_selection import train_test_split\n",
    "X_train, X_test, Y_train, Y_test= train_test_split(X, Y, test_size=0.25, random_state=1)"
   ]
  },
  {
   "cell_type": "code",
   "execution_count": 32,
   "metadata": {},
   "outputs": [
    {
     "data": {
      "text/html": [
       "<div>\n",
       "<style scoped>\n",
       "    .dataframe tbody tr th:only-of-type {\n",
       "        vertical-align: middle;\n",
       "    }\n",
       "\n",
       "    .dataframe tbody tr th {\n",
       "        vertical-align: top;\n",
       "    }\n",
       "\n",
       "    .dataframe thead th {\n",
       "        text-align: right;\n",
       "    }\n",
       "</style>\n",
       "<table border=\"1\" class=\"dataframe\">\n",
       "  <thead>\n",
       "    <tr style=\"text-align: right;\">\n",
       "      <th></th>\n",
       "      <th>size</th>\n",
       "      <th>reduced_lunch</th>\n",
       "      <th>state_percentile_16</th>\n",
       "      <th>state_percentile_15</th>\n",
       "      <th>stu_teach_ratio</th>\n",
       "      <th>avg_score_15</th>\n",
       "      <th>avg_score_16</th>\n",
       "      <th>full_time_teachers</th>\n",
       "      <th>percent_black</th>\n",
       "      <th>percent_white</th>\n",
       "      <th>percent_asian</th>\n",
       "      <th>percent_hispanic</th>\n",
       "      <th>school_type_Public</th>\n",
       "      <th>school_type_Public Charter</th>\n",
       "      <th>school_type_Public Magnet</th>\n",
       "    </tr>\n",
       "  </thead>\n",
       "  <tbody>\n",
       "    <tr>\n",
       "      <th>274</th>\n",
       "      <td>866.0</td>\n",
       "      <td>40.0</td>\n",
       "      <td>70.5</td>\n",
       "      <td>66.4</td>\n",
       "      <td>14.9</td>\n",
       "      <td>62.4</td>\n",
       "      <td>65.5</td>\n",
       "      <td>58.0</td>\n",
       "      <td>0.3</td>\n",
       "      <td>90.3</td>\n",
       "      <td>0.3</td>\n",
       "      <td>5.0</td>\n",
       "      <td>1</td>\n",
       "      <td>0</td>\n",
       "      <td>0</td>\n",
       "    </tr>\n",
       "    <tr>\n",
       "      <th>16</th>\n",
       "      <td>489.0</td>\n",
       "      <td>66.0</td>\n",
       "      <td>36.0</td>\n",
       "      <td>54.1</td>\n",
       "      <td>14.3</td>\n",
       "      <td>53.2</td>\n",
       "      <td>41.0</td>\n",
       "      <td>34.0</td>\n",
       "      <td>0.0</td>\n",
       "      <td>96.3</td>\n",
       "      <td>0.0</td>\n",
       "      <td>1.4</td>\n",
       "      <td>1</td>\n",
       "      <td>0</td>\n",
       "      <td>0</td>\n",
       "    </tr>\n",
       "    <tr>\n",
       "      <th>246</th>\n",
       "      <td>520.0</td>\n",
       "      <td>87.0</td>\n",
       "      <td>2.0</td>\n",
       "      <td>1.9</td>\n",
       "      <td>12.0</td>\n",
       "      <td>4.3</td>\n",
       "      <td>6.1</td>\n",
       "      <td>43.0</td>\n",
       "      <td>91.3</td>\n",
       "      <td>3.7</td>\n",
       "      <td>0.6</td>\n",
       "      <td>2.1</td>\n",
       "      <td>0</td>\n",
       "      <td>0</td>\n",
       "      <td>1</td>\n",
       "    </tr>\n",
       "    <tr>\n",
       "      <th>0</th>\n",
       "      <td>851.0</td>\n",
       "      <td>10.0</td>\n",
       "      <td>90.2</td>\n",
       "      <td>95.8</td>\n",
       "      <td>15.7</td>\n",
       "      <td>89.4</td>\n",
       "      <td>85.2</td>\n",
       "      <td>54.0</td>\n",
       "      <td>2.9</td>\n",
       "      <td>85.5</td>\n",
       "      <td>1.6</td>\n",
       "      <td>5.6</td>\n",
       "      <td>1</td>\n",
       "      <td>0</td>\n",
       "      <td>0</td>\n",
       "    </tr>\n",
       "    <tr>\n",
       "      <th>165</th>\n",
       "      <td>1020.0</td>\n",
       "      <td>71.0</td>\n",
       "      <td>45.7</td>\n",
       "      <td>47.1</td>\n",
       "      <td>14.5</td>\n",
       "      <td>50.6</td>\n",
       "      <td>47.7</td>\n",
       "      <td>70.0</td>\n",
       "      <td>37.0</td>\n",
       "      <td>29.2</td>\n",
       "      <td>3.1</td>\n",
       "      <td>28.3</td>\n",
       "      <td>1</td>\n",
       "      <td>0</td>\n",
       "      <td>0</td>\n",
       "    </tr>\n",
       "  </tbody>\n",
       "</table>\n",
       "</div>"
      ],
      "text/plain": [
       "       size  reduced_lunch  state_percentile_16  state_percentile_15  \\\n",
       "274   866.0           40.0                 70.5                 66.4   \n",
       "16    489.0           66.0                 36.0                 54.1   \n",
       "246   520.0           87.0                  2.0                  1.9   \n",
       "0     851.0           10.0                 90.2                 95.8   \n",
       "165  1020.0           71.0                 45.7                 47.1   \n",
       "\n",
       "     stu_teach_ratio  avg_score_15  avg_score_16  full_time_teachers  \\\n",
       "274             14.9          62.4          65.5                58.0   \n",
       "16              14.3          53.2          41.0                34.0   \n",
       "246             12.0           4.3           6.1                43.0   \n",
       "0               15.7          89.4          85.2                54.0   \n",
       "165             14.5          50.6          47.7                70.0   \n",
       "\n",
       "     percent_black  percent_white  percent_asian  percent_hispanic  \\\n",
       "274            0.3           90.3            0.3               5.0   \n",
       "16             0.0           96.3            0.0               1.4   \n",
       "246           91.3            3.7            0.6               2.1   \n",
       "0              2.9           85.5            1.6               5.6   \n",
       "165           37.0           29.2            3.1              28.3   \n",
       "\n",
       "     school_type_Public  school_type_Public Charter  school_type_Public Magnet  \n",
       "274                   1                           0                          0  \n",
       "16                    1                           0                          0  \n",
       "246                   0                           0                          1  \n",
       "0                     1                           0                          0  \n",
       "165                   1                           0                          0  "
      ]
     },
     "execution_count": 32,
     "metadata": {},
     "output_type": "execute_result"
    }
   ],
   "source": [
    "X_train.head()"
   ]
  },
  {
   "cell_type": "code",
   "execution_count": 33,
   "metadata": {},
   "outputs": [
    {
     "data": {
      "text/plain": [
       "274    4.0\n",
       "16     2.0\n",
       "246    0.0\n",
       "0      5.0\n",
       "165    2.0\n",
       "Name: school_rating, dtype: float64"
      ]
     },
     "execution_count": 33,
     "metadata": {},
     "output_type": "execute_result"
    }
   ],
   "source": [
    "Y_train.head()"
   ]
  },
  {
   "cell_type": "code",
   "execution_count": 34,
   "metadata": {},
   "outputs": [],
   "source": [
    "from sklearn.preprocessing import StandardScaler\n",
    "sc= StandardScaler()\n",
    "sc= sc.fit(X_train)\n",
    "X_train1= sc.transform(X_train)\n",
    "X_test1= sc.transform(X_test)"
   ]
  },
  {
   "cell_type": "code",
   "execution_count": 35,
   "metadata": {},
   "outputs": [],
   "source": [
    "from sklearn.linear_model import LinearRegression\n",
    "lr_regressor= LinearRegression()"
   ]
  },
  {
   "cell_type": "code",
   "execution_count": 36,
   "metadata": {},
   "outputs": [
    {
     "data": {
      "text/plain": [
       "LinearRegression(copy_X=True, fit_intercept=True, n_jobs=1, normalize=False)"
      ]
     },
     "execution_count": 36,
     "metadata": {},
     "output_type": "execute_result"
    }
   ],
   "source": [
    "lr_regressor.fit(X_train1, Y_train)"
   ]
  },
  {
   "cell_type": "code",
   "execution_count": 38,
   "metadata": {},
   "outputs": [
    {
     "data": {
      "text/plain": [
       "size                          0.093295\n",
       "reduced_lunch                -0.010997\n",
       "state_percentile_16           1.368047\n",
       "state_percentile_15          -0.132710\n",
       "stu_teach_ratio               0.004884\n",
       "avg_score_15                  0.179779\n",
       "avg_score_16                  0.164666\n",
       "full_time_teachers           -0.068531\n",
       "percent_black                 0.049449\n",
       "percent_white                 0.100319\n",
       "percent_asian                 0.004491\n",
       "percent_hispanic              0.053099\n",
       "school_type_Public           -0.132689\n",
       "school_type_Public Charter   -0.080178\n",
       "school_type_Public Magnet    -0.125249\n",
       "dtype: float64"
      ]
     },
     "execution_count": 38,
     "metadata": {},
     "output_type": "execute_result"
    }
   ],
   "source": [
    "pd.Series(lr_regressor.coef_, index=X_train.columns) "
   ]
  },
  {
   "cell_type": "code",
   "execution_count": 39,
   "metadata": {},
   "outputs": [
    {
     "data": {
      "text/plain": [
       "3.1153846153846154"
      ]
     },
     "execution_count": 39,
     "metadata": {},
     "output_type": "execute_result"
    }
   ],
   "source": [
    "lr_regressor.intercept_"
   ]
  },
  {
   "cell_type": "code",
   "execution_count": 48,
   "metadata": {},
   "outputs": [
    {
     "data": {
      "text/plain": [
       "array([ 0.68114537,  2.17774336,  0.38456034,  0.21650735,  5.05354814,\n",
       "        2.51518889,  4.2382023 ,  3.21754222,  4.28903084,  0.64328636,\n",
       "        2.55998836,  4.0006941 ,  3.02613098,  0.72566192,  0.86123603,\n",
       "        2.60216657,  4.31223444,  4.11921172,  4.13828905,  2.56317237,\n",
       "        2.34114768,  4.26413646,  1.30511586,  3.0919136 ,  0.43731303,\n",
       "        4.12130872,  3.95178057,  1.50811119,  1.58609949,  3.88063275,\n",
       "        0.28791256,  1.57021169,  4.44356063,  4.74995906,  4.89671476,\n",
       "        4.83346997,  0.10530214,  4.10728513, -0.14322472,  0.71484048,\n",
       "        1.25163687,  0.06045113,  4.39506431,  4.62230435,  4.07007015,\n",
       "        0.43946706,  3.2826218 ,  0.21505964,  4.56145855,  4.14817695,\n",
       "        0.24124225,  0.36174474,  4.89236803,  2.43167578,  4.50613986,\n",
       "        2.42915606,  1.61179232,  4.91587659,  4.14353737,  3.72670701,\n",
       "        3.05039628,  2.5854778 ,  2.95250644,  0.19635923,  4.68436373,\n",
       "        0.23599748,  0.45707909,  4.70968558,  1.0883889 ,  3.25234359,\n",
       "        0.03386725,  1.04488427,  3.15310868,  3.43986921,  0.72601668,\n",
       "        3.64550431,  4.71855748,  0.89225515,  0.568678  , -0.16632581,\n",
       "        0.1972269 ,  4.29997972,  4.64446176,  0.74843458,  4.92517891,\n",
       "        4.23670198,  2.69420064])"
      ]
     },
     "execution_count": 48,
     "metadata": {},
     "output_type": "execute_result"
    }
   ],
   "source": [
    "predict = lr_regressor.predict(X_test1)\n",
    "predict"
   ]
  },
  {
   "cell_type": "code",
   "execution_count": 41,
   "metadata": {},
   "outputs": [
    {
     "data": {
      "text/html": [
       "<div>\n",
       "<style scoped>\n",
       "    .dataframe tbody tr th:only-of-type {\n",
       "        vertical-align: middle;\n",
       "    }\n",
       "\n",
       "    .dataframe tbody tr th {\n",
       "        vertical-align: top;\n",
       "    }\n",
       "\n",
       "    .dataframe thead th {\n",
       "        text-align: right;\n",
       "    }\n",
       "</style>\n",
       "<table border=\"1\" class=\"dataframe\">\n",
       "  <thead>\n",
       "    <tr style=\"text-align: right;\">\n",
       "      <th></th>\n",
       "      <th>school_rating</th>\n",
       "      <th>predict</th>\n",
       "      <th>predict_new</th>\n",
       "    </tr>\n",
       "  </thead>\n",
       "  <tbody>\n",
       "    <tr>\n",
       "      <th>85</th>\n",
       "      <td>1.0</td>\n",
       "      <td>0.681145</td>\n",
       "      <td>1.0</td>\n",
       "    </tr>\n",
       "    <tr>\n",
       "      <th>163</th>\n",
       "      <td>2.0</td>\n",
       "      <td>2.177743</td>\n",
       "      <td>2.0</td>\n",
       "    </tr>\n",
       "    <tr>\n",
       "      <th>107</th>\n",
       "      <td>0.0</td>\n",
       "      <td>0.384560</td>\n",
       "      <td>0.0</td>\n",
       "    </tr>\n",
       "    <tr>\n",
       "      <th>105</th>\n",
       "      <td>0.0</td>\n",
       "      <td>0.216507</td>\n",
       "      <td>0.0</td>\n",
       "    </tr>\n",
       "    <tr>\n",
       "      <th>123</th>\n",
       "      <td>5.0</td>\n",
       "      <td>5.053548</td>\n",
       "      <td>5.0</td>\n",
       "    </tr>\n",
       "  </tbody>\n",
       "</table>\n",
       "</div>"
      ],
      "text/plain": [
       "     school_rating   predict  predict_new\n",
       "85             1.0  0.681145          1.0\n",
       "163            2.0  2.177743          2.0\n",
       "107            0.0  0.384560          0.0\n",
       "105            0.0  0.216507          0.0\n",
       "123            5.0  5.053548          5.0"
      ]
     },
     "execution_count": 41,
     "metadata": {},
     "output_type": "execute_result"
    }
   ],
   "source": [
    "a = pd.DataFrame(Y_test)\n",
    "a['predict'] = lr_regressor.predict(X_test1).tolist()\n",
    "lis=[]\n",
    "for i in a['predict'].values:\n",
    "    if (i-int(i)) < 0.5:\n",
    "        lis.append(float(int(i)))\n",
    "    else:\n",
    "        lis.append(float(int(i)+1))\n",
    "a['predict_new'] = lis \n",
    "a.head()"
   ]
  },
  {
   "cell_type": "code",
   "execution_count": 42,
   "metadata": {},
   "outputs": [
    {
     "data": {
      "text/plain": [
       "0.9729597583379848"
      ]
     },
     "execution_count": 42,
     "metadata": {},
     "output_type": "execute_result"
    },
    {
     "data": {
      "text/plain": [
       "0.291652517401564"
      ]
     },
     "execution_count": 42,
     "metadata": {},
     "output_type": "execute_result"
    }
   ],
   "source": [
    "from sklearn import metrics\n",
    "metrics.r2_score(Y_test, lr_regressor.predict(X_test1))\n",
    "np.sqrt(metrics.mean_squared_error(Y_test, lr_regressor.predict(X_test1)))"
   ]
  },
  {
   "cell_type": "code",
   "execution_count": 43,
   "metadata": {},
   "outputs": [],
   "source": [
    "import statsmodels.formula.api as sm"
   ]
  },
  {
   "cell_type": "code",
   "execution_count": 49,
   "metadata": {},
   "outputs": [],
   "source": [
    "X=pd.concat([pd.DataFrame(np.ones(shape=(X.shape[0],1))),X], axis=1)"
   ]
  },
  {
   "cell_type": "code",
   "execution_count": 50,
   "metadata": {},
   "outputs": [],
   "source": [
    "X_tr, X_te, Y_tr, Y_te= train_test_split(X, Y, test_size=0.25, random_state=1)"
   ]
  },
  {
   "cell_type": "code",
   "execution_count": 46,
   "metadata": {},
   "outputs": [
    {
     "data": {
      "text/html": [
       "<table class=\"simpletable\">\n",
       "<caption>OLS Regression Results</caption>\n",
       "<tr>\n",
       "  <th>Dep. Variable:</th>      <td>school_rating</td>  <th>  R-squared:         </th> <td>   0.994</td> \n",
       "</tr>\n",
       "<tr>\n",
       "  <th>Model:</th>                   <td>OLS</td>       <th>  Adj. R-squared:    </th> <td>   0.994</td> \n",
       "</tr>\n",
       "<tr>\n",
       "  <th>Method:</th>             <td>Least Squares</td>  <th>  F-statistic:       </th> <td>   2791.</td> \n",
       "</tr>\n",
       "<tr>\n",
       "  <th>Date:</th>             <td>Thu, 24 Oct 2019</td> <th>  Prob (F-statistic):</th> <td>3.58e-264</td>\n",
       "</tr>\n",
       "<tr>\n",
       "  <th>Time:</th>                 <td>02:28:28</td>     <th>  Log-Likelihood:    </th> <td> -26.818</td> \n",
       "</tr>\n",
       "<tr>\n",
       "  <th>No. Observations:</th>      <td>   260</td>      <th>  AIC:               </th> <td>   83.64</td> \n",
       "</tr>\n",
       "<tr>\n",
       "  <th>Df Residuals:</th>          <td>   245</td>      <th>  BIC:               </th> <td>   137.0</td> \n",
       "</tr>\n",
       "<tr>\n",
       "  <th>Df Model:</th>              <td>    15</td>      <th>                     </th>     <td> </td>    \n",
       "</tr>\n",
       "<tr>\n",
       "  <th>Covariance Type:</th>      <td>nonrobust</td>    <th>                     </th>     <td> </td>    \n",
       "</tr>\n",
       "</table>\n",
       "<table class=\"simpletable\">\n",
       "<tr>\n",
       "               <td></td>                 <th>coef</th>     <th>std err</th>      <th>t</th>      <th>P>|t|</th>  <th>[0.025</th>    <th>0.975]</th>  \n",
       "</tr>\n",
       "<tr>\n",
       "  <th>size</th>                       <td>    0.0002</td> <td>    0.000</td> <td>    1.065</td> <td> 0.288</td> <td>   -0.000</td> <td>    0.001</td>\n",
       "</tr>\n",
       "<tr>\n",
       "  <th>reduced_lunch</th>              <td>   -0.0004</td> <td>    0.001</td> <td>   -0.296</td> <td> 0.768</td> <td>   -0.003</td> <td>    0.002</td>\n",
       "</tr>\n",
       "<tr>\n",
       "  <th>state_percentile_16</th>        <td>    0.0433</td> <td>    0.007</td> <td>    6.142</td> <td> 0.000</td> <td>    0.029</td> <td>    0.057</td>\n",
       "</tr>\n",
       "<tr>\n",
       "  <th>state_percentile_15</th>        <td>   -0.0042</td> <td>    0.006</td> <td>   -0.742</td> <td> 0.459</td> <td>   -0.015</td> <td>    0.007</td>\n",
       "</tr>\n",
       "<tr>\n",
       "  <th>stu_teach_ratio</th>            <td>    0.0005</td> <td>    0.006</td> <td>    0.079</td> <td> 0.937</td> <td>   -0.012</td> <td>    0.013</td>\n",
       "</tr>\n",
       "<tr>\n",
       "  <th>avg_score_15</th>               <td>    0.0070</td> <td>    0.007</td> <td>    0.979</td> <td> 0.329</td> <td>   -0.007</td> <td>    0.021</td>\n",
       "</tr>\n",
       "<tr>\n",
       "  <th>avg_score_16</th>               <td>    0.0061</td> <td>    0.008</td> <td>    0.743</td> <td> 0.458</td> <td>   -0.010</td> <td>    0.022</td>\n",
       "</tr>\n",
       "<tr>\n",
       "  <th>full_time_teachers</th>         <td>   -0.0033</td> <td>    0.004</td> <td>   -0.841</td> <td> 0.401</td> <td>   -0.011</td> <td>    0.004</td>\n",
       "</tr>\n",
       "<tr>\n",
       "  <th>percent_black</th>              <td>    0.0021</td> <td>    0.006</td> <td>    0.343</td> <td> 0.732</td> <td>   -0.010</td> <td>    0.014</td>\n",
       "</tr>\n",
       "<tr>\n",
       "  <th>percent_white</th>              <td>    0.0037</td> <td>    0.006</td> <td>    0.637</td> <td> 0.525</td> <td>   -0.008</td> <td>    0.015</td>\n",
       "</tr>\n",
       "<tr>\n",
       "  <th>percent_asian</th>              <td>    0.0013</td> <td>    0.008</td> <td>    0.168</td> <td> 0.866</td> <td>   -0.014</td> <td>    0.017</td>\n",
       "</tr>\n",
       "<tr>\n",
       "  <th>percent_hispanic</th>           <td>    0.0046</td> <td>    0.006</td> <td>    0.714</td> <td> 0.476</td> <td>   -0.008</td> <td>    0.017</td>\n",
       "</tr>\n",
       "<tr>\n",
       "  <th>school_type_Public</th>         <td>   -0.4006</td> <td>    0.556</td> <td>   -0.721</td> <td> 0.472</td> <td>   -1.496</td> <td>    0.694</td>\n",
       "</tr>\n",
       "<tr>\n",
       "  <th>school_type_Public Charter</th> <td>   -0.5200</td> <td>    0.616</td> <td>   -0.845</td> <td> 0.399</td> <td>   -1.733</td> <td>    0.693</td>\n",
       "</tr>\n",
       "<tr>\n",
       "  <th>school_type_Public Magnet</th>  <td>   -0.4170</td> <td>    0.572</td> <td>   -0.729</td> <td> 0.467</td> <td>   -1.544</td> <td>    0.710</td>\n",
       "</tr>\n",
       "</table>\n",
       "<table class=\"simpletable\">\n",
       "<tr>\n",
       "  <th>Omnibus:</th>       <td>22.171</td> <th>  Durbin-Watson:     </th> <td>   1.929</td>\n",
       "</tr>\n",
       "<tr>\n",
       "  <th>Prob(Omnibus):</th> <td> 0.000</td> <th>  Jarque-Bera (JB):  </th> <td>   8.155</td>\n",
       "</tr>\n",
       "<tr>\n",
       "  <th>Skew:</th>          <td>-0.127</td> <th>  Prob(JB):          </th> <td>  0.0170</td>\n",
       "</tr>\n",
       "<tr>\n",
       "  <th>Kurtosis:</th>      <td> 2.170</td> <th>  Cond. No.          </th> <td>4.77e+04</td>\n",
       "</tr>\n",
       "</table>"
      ],
      "text/plain": [
       "<class 'statsmodels.iolib.summary.Summary'>\n",
       "\"\"\"\n",
       "                            OLS Regression Results                            \n",
       "==============================================================================\n",
       "Dep. Variable:          school_rating   R-squared:                       0.994\n",
       "Model:                            OLS   Adj. R-squared:                  0.994\n",
       "Method:                 Least Squares   F-statistic:                     2791.\n",
       "Date:                Thu, 24 Oct 2019   Prob (F-statistic):          3.58e-264\n",
       "Time:                        02:28:28   Log-Likelihood:                -26.818\n",
       "No. Observations:                 260   AIC:                             83.64\n",
       "Df Residuals:                     245   BIC:                             137.0\n",
       "Df Model:                          15                                         \n",
       "Covariance Type:            nonrobust                                         \n",
       "==============================================================================================\n",
       "                                 coef    std err          t      P>|t|      [0.025      0.975]\n",
       "----------------------------------------------------------------------------------------------\n",
       "size                           0.0002      0.000      1.065      0.288      -0.000       0.001\n",
       "reduced_lunch                 -0.0004      0.001     -0.296      0.768      -0.003       0.002\n",
       "state_percentile_16            0.0433      0.007      6.142      0.000       0.029       0.057\n",
       "state_percentile_15           -0.0042      0.006     -0.742      0.459      -0.015       0.007\n",
       "stu_teach_ratio                0.0005      0.006      0.079      0.937      -0.012       0.013\n",
       "avg_score_15                   0.0070      0.007      0.979      0.329      -0.007       0.021\n",
       "avg_score_16                   0.0061      0.008      0.743      0.458      -0.010       0.022\n",
       "full_time_teachers            -0.0033      0.004     -0.841      0.401      -0.011       0.004\n",
       "percent_black                  0.0021      0.006      0.343      0.732      -0.010       0.014\n",
       "percent_white                  0.0037      0.006      0.637      0.525      -0.008       0.015\n",
       "percent_asian                  0.0013      0.008      0.168      0.866      -0.014       0.017\n",
       "percent_hispanic               0.0046      0.006      0.714      0.476      -0.008       0.017\n",
       "school_type_Public            -0.4006      0.556     -0.721      0.472      -1.496       0.694\n",
       "school_type_Public Charter    -0.5200      0.616     -0.845      0.399      -1.733       0.693\n",
       "school_type_Public Magnet     -0.4170      0.572     -0.729      0.467      -1.544       0.710\n",
       "==============================================================================\n",
       "Omnibus:                       22.171   Durbin-Watson:                   1.929\n",
       "Prob(Omnibus):                  0.000   Jarque-Bera (JB):                8.155\n",
       "Skew:                          -0.127   Prob(JB):                       0.0170\n",
       "Kurtosis:                       2.170   Cond. No.                     4.77e+04\n",
       "==============================================================================\n",
       "\n",
       "Warnings:\n",
       "[1] Standard Errors assume that the covariance matrix of the errors is correctly specified.\n",
       "[2] The condition number is large, 4.77e+04. This might indicate that there are\n",
       "strong multicollinearity or other numerical problems.\n",
       "\"\"\""
      ]
     },
     "execution_count": 46,
     "metadata": {},
     "output_type": "execute_result"
    }
   ],
   "source": [
    "X_opt= X_tr.iloc[:,1:]\n",
    "regressor_ols= sm.OLS(endog=Y_tr, exog=X_opt).fit()\n",
    "regressor_ols.summary()"
   ]
  }
 ],
 "metadata": {
  "kernelspec": {
   "display_name": "Python 3",
   "language": "python",
   "name": "python3"
  },
  "language_info": {
   "codemirror_mode": {
    "name": "ipython",
    "version": 3
   },
   "file_extension": ".py",
   "mimetype": "text/x-python",
   "name": "python",
   "nbconvert_exporter": "python",
   "pygments_lexer": "ipython3",
   "version": "3.6.4"
  }
 },
 "nbformat": 4,
 "nbformat_minor": 2
}
